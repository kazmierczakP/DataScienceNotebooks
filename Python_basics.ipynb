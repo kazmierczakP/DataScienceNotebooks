{
 "cells": [
  {
   "cell_type": "markdown",
   "id": "49245e1c",
   "metadata": {},
   "source": [
    "# Python"
   ]
  },
  {
   "cell_type": "markdown",
   "id": "e00117d9",
   "metadata": {},
   "source": [
    "## 1 Types"
   ]
  },
  {
   "cell_type": "markdown",
   "id": "f5991b5b",
   "metadata": {},
   "source": [
    "### int"
   ]
  },
  {
   "cell_type": "code",
   "execution_count": 31,
   "id": "9813c8c4",
   "metadata": {},
   "outputs": [
    {
     "data": {
      "text/plain": [
       "10"
      ]
     },
     "execution_count": 31,
     "metadata": {},
     "output_type": "execute_result"
    }
   ],
   "source": [
    "int('10')"
   ]
  },
  {
   "cell_type": "code",
   "execution_count": 7,
   "id": "fbe3d49b",
   "metadata": {},
   "outputs": [
    {
     "data": {
      "text/plain": [
       "3"
      ]
     },
     "execution_count": 7,
     "metadata": {},
     "output_type": "execute_result"
    }
   ],
   "source": [
    "n=3\n",
    "n"
   ]
  },
  {
   "cell_type": "code",
   "execution_count": 9,
   "id": "67314ea8",
   "metadata": {},
   "outputs": [
    {
     "data": {
      "text/plain": [
       "6"
      ]
     },
     "execution_count": 9,
     "metadata": {},
     "output_type": "execute_result"
    }
   ],
   "source": [
    "n+n"
   ]
  },
  {
   "cell_type": "code",
   "execution_count": 10,
   "id": "a9bda25f",
   "metadata": {},
   "outputs": [
    {
     "data": {
      "text/plain": [
       "0"
      ]
     },
     "execution_count": 10,
     "metadata": {},
     "output_type": "execute_result"
    }
   ],
   "source": [
    "n-n"
   ]
  },
  {
   "cell_type": "code",
   "execution_count": 11,
   "id": "690cb1fc",
   "metadata": {},
   "outputs": [
    {
     "data": {
      "text/plain": [
       "9"
      ]
     },
     "execution_count": 11,
     "metadata": {},
     "output_type": "execute_result"
    }
   ],
   "source": [
    "n*n"
   ]
  },
  {
   "cell_type": "code",
   "execution_count": 12,
   "id": "e3211549",
   "metadata": {},
   "outputs": [
    {
     "data": {
      "text/plain": [
       "1.0"
      ]
     },
     "execution_count": 12,
     "metadata": {},
     "output_type": "execute_result"
    }
   ],
   "source": [
    "n/n"
   ]
  },
  {
   "cell_type": "code",
   "execution_count": 13,
   "id": "d3765977",
   "metadata": {},
   "outputs": [
    {
     "data": {
      "text/plain": [
       "1"
      ]
     },
     "execution_count": 13,
     "metadata": {},
     "output_type": "execute_result"
    }
   ],
   "source": [
    "n%2"
   ]
  },
  {
   "cell_type": "markdown",
   "id": "dbb92926",
   "metadata": {},
   "source": [
    "### float"
   ]
  },
  {
   "cell_type": "code",
   "execution_count": 33,
   "id": "7f6bd9aa",
   "metadata": {},
   "outputs": [
    {
     "data": {
      "text/plain": [
       "3.14"
      ]
     },
     "execution_count": 33,
     "metadata": {},
     "output_type": "execute_result"
    }
   ],
   "source": [
    "float('3.14')"
   ]
  },
  {
   "cell_type": "code",
   "execution_count": 16,
   "id": "103af427",
   "metadata": {},
   "outputs": [
    {
     "data": {
      "text/plain": [
       "3.14"
      ]
     },
     "execution_count": 16,
     "metadata": {},
     "output_type": "execute_result"
    }
   ],
   "source": [
    "m=3.14\n",
    "m"
   ]
  },
  {
   "cell_type": "markdown",
   "id": "52c71c0c",
   "metadata": {},
   "source": [
    "### string"
   ]
  },
  {
   "cell_type": "code",
   "execution_count": 17,
   "id": "3f1d1d7a",
   "metadata": {},
   "outputs": [
    {
     "data": {
      "text/plain": [
       "'This is 3 speech.'"
      ]
     },
     "execution_count": 17,
     "metadata": {},
     "output_type": "execute_result"
    }
   ],
   "source": [
    "text='This is '+str(n)+' speech.'\n",
    "text"
   ]
  },
  {
   "cell_type": "code",
   "execution_count": 18,
   "id": "7a576210",
   "metadata": {},
   "outputs": [
    {
     "data": {
      "text/plain": [
       "'This is 3 speech.This is 3 speech.This is 3 speech.'"
      ]
     },
     "execution_count": 18,
     "metadata": {},
     "output_type": "execute_result"
    }
   ],
   "source": [
    "text*3"
   ]
  },
  {
   "cell_type": "code",
   "execution_count": 60,
   "id": "e3bf35eb",
   "metadata": {},
   "outputs": [
    {
     "data": {
      "text/plain": [
       "'T'"
      ]
     },
     "execution_count": 60,
     "metadata": {},
     "output_type": "execute_result"
    }
   ],
   "source": [
    "text[0]"
   ]
  },
  {
   "cell_type": "markdown",
   "id": "4ea7e50c",
   "metadata": {},
   "source": [
    "### string formating"
   ]
  },
  {
   "cell_type": "code",
   "execution_count": 21,
   "id": "caf9a0b0",
   "metadata": {},
   "outputs": [
    {
     "data": {
      "text/plain": [
       "'There are 4 apples.'"
      ]
     },
     "execution_count": 21,
     "metadata": {},
     "output_type": "execute_result"
    }
   ],
   "source": [
    "number=4\n",
    "f'There are {number} apples.'"
   ]
  },
  {
   "cell_type": "code",
   "execution_count": 22,
   "id": "a4dd0165",
   "metadata": {},
   "outputs": [
    {
     "data": {
      "text/plain": [
       "'There are 4 apples.'"
      ]
     },
     "execution_count": 22,
     "metadata": {},
     "output_type": "execute_result"
    }
   ],
   "source": [
    "number=4\n",
    "'There are %d apples.'%number"
   ]
  },
  {
   "cell_type": "code",
   "execution_count": 23,
   "id": "0ff2cf78",
   "metadata": {},
   "outputs": [
    {
     "data": {
      "text/plain": [
       "'There are 4 apples and 3 pears.'"
      ]
     },
     "execution_count": 23,
     "metadata": {},
     "output_type": "execute_result"
    }
   ],
   "source": [
    "number=4\n",
    "'There are %d apples and %d pears.'%(number,3)"
   ]
  },
  {
   "cell_type": "code",
   "execution_count": 24,
   "id": "8240c877",
   "metadata": {},
   "outputs": [],
   "source": [
    "from math import pi"
   ]
  },
  {
   "cell_type": "code",
   "execution_count": 26,
   "id": "6ebffe63",
   "metadata": {},
   "outputs": [
    {
     "data": {
      "text/plain": [
       "3.141592653589793"
      ]
     },
     "execution_count": 26,
     "metadata": {},
     "output_type": "execute_result"
    }
   ],
   "source": [
    "pi"
   ]
  },
  {
   "cell_type": "code",
   "execution_count": 25,
   "id": "e830184e",
   "metadata": {},
   "outputs": [
    {
     "data": {
      "text/plain": [
       "'3.14'"
      ]
     },
     "execution_count": 25,
     "metadata": {},
     "output_type": "execute_result"
    }
   ],
   "source": [
    "f'{pi:.3}'"
   ]
  },
  {
   "cell_type": "code",
   "execution_count": 27,
   "id": "a62e5a28",
   "metadata": {},
   "outputs": [
    {
     "data": {
      "text/plain": [
       "'3.142'"
      ]
     },
     "execution_count": 27,
     "metadata": {},
     "output_type": "execute_result"
    }
   ],
   "source": [
    "f'{pi:.3f}'"
   ]
  },
  {
   "cell_type": "code",
   "execution_count": 32,
   "id": "2e818e14",
   "metadata": {},
   "outputs": [
    {
     "data": {
      "text/plain": [
       "'  12'"
      ]
     },
     "execution_count": 32,
     "metadata": {},
     "output_type": "execute_result"
    }
   ],
   "source": [
    "f'{12:4d}'"
   ]
  },
  {
   "cell_type": "code",
   "execution_count": 33,
   "id": "6163fe9a",
   "metadata": {},
   "outputs": [
    {
     "data": {
      "text/plain": [
       "'0012'"
      ]
     },
     "execution_count": 33,
     "metadata": {},
     "output_type": "execute_result"
    }
   ],
   "source": [
    "f'{12:04d}'"
   ]
  },
  {
   "cell_type": "markdown",
   "id": "6b212405",
   "metadata": {},
   "source": [
    "### round number"
   ]
  },
  {
   "cell_type": "code",
   "execution_count": 28,
   "id": "80cd8313",
   "metadata": {},
   "outputs": [
    {
     "data": {
      "text/plain": [
       "3.142"
      ]
     },
     "execution_count": 28,
     "metadata": {},
     "output_type": "execute_result"
    }
   ],
   "source": [
    "round(pi,3)"
   ]
  },
  {
   "cell_type": "markdown",
   "id": "890e576a",
   "metadata": {},
   "source": [
    "### boolean"
   ]
  },
  {
   "cell_type": "code",
   "execution_count": 40,
   "id": "bdb77e22",
   "metadata": {},
   "outputs": [
    {
     "data": {
      "text/plain": [
       "True"
      ]
     },
     "execution_count": 40,
     "metadata": {},
     "output_type": "execute_result"
    }
   ],
   "source": [
    "n==3"
   ]
  },
  {
   "cell_type": "code",
   "execution_count": 41,
   "id": "78a4326e",
   "metadata": {},
   "outputs": [
    {
     "data": {
      "text/plain": [
       "False"
      ]
     },
     "execution_count": 41,
     "metadata": {},
     "output_type": "execute_result"
    }
   ],
   "source": [
    "n!=3"
   ]
  },
  {
   "cell_type": "code",
   "execution_count": 42,
   "id": "0a311df8",
   "metadata": {},
   "outputs": [
    {
     "data": {
      "text/plain": [
       "False"
      ]
     },
     "execution_count": 42,
     "metadata": {},
     "output_type": "execute_result"
    }
   ],
   "source": [
    "not n==3"
   ]
  },
  {
   "cell_type": "code",
   "execution_count": 44,
   "id": "f3e7c907",
   "metadata": {},
   "outputs": [
    {
     "data": {
      "text/plain": [
       "True"
      ]
     },
     "execution_count": 44,
     "metadata": {},
     "output_type": "execute_result"
    }
   ],
   "source": [
    "n==3 or n!=3"
   ]
  },
  {
   "cell_type": "code",
   "execution_count": 45,
   "id": "bfe0280c",
   "metadata": {},
   "outputs": [
    {
     "data": {
      "text/plain": [
       "False"
      ]
     },
     "execution_count": 45,
     "metadata": {},
     "output_type": "execute_result"
    }
   ],
   "source": [
    "n==3 and n!=3"
   ]
  },
  {
   "cell_type": "markdown",
   "id": "b2c91f55",
   "metadata": {},
   "source": [
    "### lists"
   ]
  },
  {
   "cell_type": "code",
   "execution_count": 3,
   "id": "3af2316a",
   "metadata": {},
   "outputs": [],
   "source": [
    "# mutable\n",
    "# can store duplicates\n",
    "# ordered"
   ]
  },
  {
   "cell_type": "code",
   "execution_count": 63,
   "id": "21f42eab",
   "metadata": {},
   "outputs": [
    {
     "data": {
      "text/plain": [
       "list"
      ]
     },
     "execution_count": 63,
     "metadata": {},
     "output_type": "execute_result"
    }
   ],
   "source": [
    "l=list\n",
    "l"
   ]
  },
  {
   "cell_type": "code",
   "execution_count": 66,
   "id": "d6450b1b",
   "metadata": {},
   "outputs": [
    {
     "data": {
      "text/plain": [
       "[1, 2, 3, 4, 5]"
      ]
     },
     "execution_count": 66,
     "metadata": {},
     "output_type": "execute_result"
    }
   ],
   "source": [
    "l=list((1,2,3,4,5))\n",
    "l"
   ]
  },
  {
   "cell_type": "code",
   "execution_count": 49,
   "id": "aa4734fe",
   "metadata": {},
   "outputs": [
    {
     "data": {
      "text/plain": [
       "[1, 2, 3, 4, 5]"
      ]
     },
     "execution_count": 49,
     "metadata": {},
     "output_type": "execute_result"
    }
   ],
   "source": [
    "l=[1,2,3,4,5]\n",
    "l"
   ]
  },
  {
   "cell_type": "code",
   "execution_count": 47,
   "id": "fafd9ec7",
   "metadata": {},
   "outputs": [
    {
     "data": {
      "text/plain": [
       "1"
      ]
     },
     "execution_count": 47,
     "metadata": {},
     "output_type": "execute_result"
    }
   ],
   "source": [
    "l[0]"
   ]
  },
  {
   "cell_type": "code",
   "execution_count": 52,
   "id": "da3e747d",
   "metadata": {},
   "outputs": [
    {
     "data": {
      "text/plain": [
       "[2, 3]"
      ]
     },
     "execution_count": 52,
     "metadata": {},
     "output_type": "execute_result"
    }
   ],
   "source": [
    "l[1:3]"
   ]
  },
  {
   "cell_type": "code",
   "execution_count": 50,
   "id": "2f54561a",
   "metadata": {},
   "outputs": [
    {
     "data": {
      "text/plain": [
       "[1, 2]"
      ]
     },
     "execution_count": 50,
     "metadata": {},
     "output_type": "execute_result"
    }
   ],
   "source": [
    "l[:2]"
   ]
  },
  {
   "cell_type": "code",
   "execution_count": 51,
   "id": "09cab180",
   "metadata": {},
   "outputs": [
    {
     "data": {
      "text/plain": [
       "[3, 4, 5]"
      ]
     },
     "execution_count": 51,
     "metadata": {},
     "output_type": "execute_result"
    }
   ],
   "source": [
    "l[2:]"
   ]
  },
  {
   "cell_type": "code",
   "execution_count": 53,
   "id": "ef1b1dfc",
   "metadata": {},
   "outputs": [
    {
     "data": {
      "text/plain": [
       "5"
      ]
     },
     "execution_count": 53,
     "metadata": {},
     "output_type": "execute_result"
    }
   ],
   "source": [
    "l[-1]"
   ]
  },
  {
   "cell_type": "code",
   "execution_count": 54,
   "id": "8102fe8b",
   "metadata": {},
   "outputs": [
    {
     "data": {
      "text/plain": [
       "5"
      ]
     },
     "execution_count": 54,
     "metadata": {},
     "output_type": "execute_result"
    }
   ],
   "source": [
    "len(l)"
   ]
  },
  {
   "cell_type": "code",
   "execution_count": 56,
   "id": "4c67f7b6",
   "metadata": {},
   "outputs": [
    {
     "name": "stdout",
     "output_type": "stream",
     "text": [
      "0 1\n",
      "1 2\n",
      "2 3\n",
      "3 4\n",
      "4 5\n"
     ]
    }
   ],
   "source": [
    "for i in range(len(l)):\n",
    "    print(i,l[i])"
   ]
  },
  {
   "cell_type": "code",
   "execution_count": 57,
   "id": "23925280",
   "metadata": {},
   "outputs": [
    {
     "data": {
      "text/plain": [
       "[1, 2, 3, 4, 5, 1]"
      ]
     },
     "execution_count": 57,
     "metadata": {},
     "output_type": "execute_result"
    }
   ],
   "source": [
    "l.append(1)\n",
    "l"
   ]
  },
  {
   "cell_type": "code",
   "execution_count": 58,
   "id": "d3ecbcf7",
   "metadata": {},
   "outputs": [
    {
     "data": {
      "text/plain": [
       "[1, 2, 3, 4, 5, 1, 1, 2, 3, 4, 5, 1]"
      ]
     },
     "execution_count": 58,
     "metadata": {},
     "output_type": "execute_result"
    }
   ],
   "source": [
    "l+l"
   ]
  },
  {
   "cell_type": "code",
   "execution_count": 59,
   "id": "3bbcc587",
   "metadata": {},
   "outputs": [
    {
     "data": {
      "text/plain": [
       "[1, 2, 3, 4, 5, 1, 1, 2, 3, 4, 5, 1, 1, 2, 3, 4, 5, 1]"
      ]
     },
     "execution_count": 59,
     "metadata": {},
     "output_type": "execute_result"
    }
   ],
   "source": [
    "l*3"
   ]
  },
  {
   "cell_type": "code",
   "execution_count": 61,
   "id": "e8d0481f",
   "metadata": {},
   "outputs": [
    {
     "data": {
      "text/plain": [
       "'this-is-list'"
      ]
     },
     "execution_count": 61,
     "metadata": {},
     "output_type": "execute_result"
    }
   ],
   "source": [
    "'-'.join(['this','is','list'])"
   ]
  },
  {
   "cell_type": "code",
   "execution_count": 62,
   "id": "92280a21",
   "metadata": {},
   "outputs": [
    {
     "data": {
      "text/plain": [
       "'this*_*is*_*list'"
      ]
     },
     "execution_count": 62,
     "metadata": {},
     "output_type": "execute_result"
    }
   ],
   "source": [
    "a='*_*'\n",
    "a.join(['this','is','list'])"
   ]
  },
  {
   "cell_type": "code",
   "execution_count": 69,
   "id": "75cef112",
   "metadata": {},
   "outputs": [
    {
     "data": {
      "text/plain": [
       "[0, 1, 2, 3]"
      ]
     },
     "execution_count": 69,
     "metadata": {},
     "output_type": "execute_result"
    }
   ],
   "source": [
    "list(range(4))"
   ]
  },
  {
   "cell_type": "code",
   "execution_count": 71,
   "id": "6e1e7aed",
   "metadata": {},
   "outputs": [
    {
     "data": {
      "text/plain": [
       "['text', 'text', 'text', 'text']"
      ]
     },
     "execution_count": 71,
     "metadata": {},
     "output_type": "execute_result"
    }
   ],
   "source": [
    "numbers=list(range(4))\n",
    "l=['text']*4\n",
    "l"
   ]
  },
  {
   "cell_type": "code",
   "execution_count": 72,
   "id": "a8cb5650",
   "metadata": {},
   "outputs": [
    {
     "data": {
      "text/plain": [
       "[(0, 'text'), (1, 'text'), (2, 'text'), (3, 'text')]"
      ]
     },
     "execution_count": 72,
     "metadata": {},
     "output_type": "execute_result"
    }
   ],
   "source": [
    "list(zip(numbers,l))"
   ]
  },
  {
   "cell_type": "markdown",
   "id": "de5ead8c",
   "metadata": {},
   "source": [
    "### tuples"
   ]
  },
  {
   "cell_type": "code",
   "execution_count": null,
   "id": "2bc85f69",
   "metadata": {},
   "outputs": [],
   "source": [
    "# immutable\n",
    "# can store duplicates\n",
    "# ordered"
   ]
  },
  {
   "cell_type": "code",
   "execution_count": 8,
   "id": "f86a53bd",
   "metadata": {},
   "outputs": [],
   "source": [
    "t=(1,2,3,4,1)"
   ]
  },
  {
   "cell_type": "code",
   "execution_count": 9,
   "id": "952ed43c",
   "metadata": {},
   "outputs": [
    {
     "data": {
      "text/plain": [
       "1"
      ]
     },
     "execution_count": 9,
     "metadata": {},
     "output_type": "execute_result"
    }
   ],
   "source": [
    "t[0]"
   ]
  },
  {
   "cell_type": "code",
   "execution_count": 11,
   "id": "6a92d5ee",
   "metadata": {},
   "outputs": [
    {
     "data": {
      "text/plain": [
       "(1, 2)"
      ]
     },
     "execution_count": 11,
     "metadata": {},
     "output_type": "execute_result"
    }
   ],
   "source": [
    "a=1\n",
    "b=2\n",
    "a,b"
   ]
  },
  {
   "cell_type": "markdown",
   "id": "23a3cd2a",
   "metadata": {},
   "source": [
    "### sets"
   ]
  },
  {
   "cell_type": "code",
   "execution_count": 4,
   "id": "d4319de5",
   "metadata": {},
   "outputs": [],
   "source": [
    "# mutable\n",
    "# store single values\n",
    "# unordered"
   ]
  },
  {
   "cell_type": "code",
   "execution_count": 6,
   "id": "f969f8da",
   "metadata": {},
   "outputs": [],
   "source": [
    "s={1,2,3,4}"
   ]
  },
  {
   "cell_type": "code",
   "execution_count": 10,
   "id": "f626005a",
   "metadata": {},
   "outputs": [
    {
     "name": "stdout",
     "output_type": "stream",
     "text": [
      "yes\n"
     ]
    }
   ],
   "source": [
    "if 1 in s:\n",
    "    print('yes')"
   ]
  },
  {
   "cell_type": "code",
   "execution_count": 40,
   "id": "5c7a6a2c",
   "metadata": {},
   "outputs": [
    {
     "data": {
      "text/plain": [
       "{1, 2, 3, 4, 5}"
      ]
     },
     "execution_count": 40,
     "metadata": {},
     "output_type": "execute_result"
    }
   ],
   "source": [
    "s.add(5)\n",
    "s"
   ]
  },
  {
   "cell_type": "code",
   "execution_count": 41,
   "id": "1c820d8e",
   "metadata": {},
   "outputs": [
    {
     "data": {
      "text/plain": [
       "{1, 2, 3, 4, 5}"
      ]
     },
     "execution_count": 41,
     "metadata": {},
     "output_type": "execute_result"
    }
   ],
   "source": [
    "s.add(3)\n",
    "s"
   ]
  },
  {
   "cell_type": "code",
   "execution_count": 42,
   "id": "ed591512",
   "metadata": {},
   "outputs": [
    {
     "data": {
      "text/plain": [
       "{1, 2, 3, 4}"
      ]
     },
     "execution_count": 42,
     "metadata": {},
     "output_type": "execute_result"
    }
   ],
   "source": [
    "s.remove(5)\n",
    "s"
   ]
  },
  {
   "cell_type": "markdown",
   "id": "5003ce88",
   "metadata": {},
   "source": [
    "### dicts"
   ]
  },
  {
   "cell_type": "code",
   "execution_count": 23,
   "id": "1f6c3f26",
   "metadata": {},
   "outputs": [],
   "source": [
    "d={'a': 1, 'b': 2}"
   ]
  },
  {
   "cell_type": "code",
   "execution_count": 24,
   "id": "1cac9a00",
   "metadata": {},
   "outputs": [
    {
     "data": {
      "text/plain": [
       "dict_keys(['a', 'b'])"
      ]
     },
     "execution_count": 24,
     "metadata": {},
     "output_type": "execute_result"
    }
   ],
   "source": [
    "d.keys()"
   ]
  },
  {
   "cell_type": "code",
   "execution_count": 25,
   "id": "911655b2",
   "metadata": {},
   "outputs": [
    {
     "data": {
      "text/plain": [
       "dict_values([1, 2])"
      ]
     },
     "execution_count": 25,
     "metadata": {},
     "output_type": "execute_result"
    }
   ],
   "source": [
    "d.values()"
   ]
  },
  {
   "cell_type": "code",
   "execution_count": 26,
   "id": "a14d0d59",
   "metadata": {},
   "outputs": [
    {
     "data": {
      "text/plain": [
       "1"
      ]
     },
     "execution_count": 26,
     "metadata": {},
     "output_type": "execute_result"
    }
   ],
   "source": [
    "d['a']"
   ]
  },
  {
   "cell_type": "code",
   "execution_count": 27,
   "id": "d42c0c60",
   "metadata": {},
   "outputs": [
    {
     "data": {
      "text/plain": [
       "2"
      ]
     },
     "execution_count": 27,
     "metadata": {},
     "output_type": "execute_result"
    }
   ],
   "source": [
    "d.get('b')"
   ]
  },
  {
   "cell_type": "code",
   "execution_count": 28,
   "id": "ec3f9b81",
   "metadata": {},
   "outputs": [
    {
     "data": {
      "text/plain": [
       "{0: 'a', 1: 'b', 2: 'c'}"
      ]
     },
     "execution_count": 28,
     "metadata": {},
     "output_type": "execute_result"
    }
   ],
   "source": [
    "l=['a','b','c']\n",
    "d=dict(zip(range(len(l)),l))\n",
    "d"
   ]
  },
  {
   "cell_type": "code",
   "execution_count": 29,
   "id": "1a8519b5",
   "metadata": {},
   "outputs": [
    {
     "name": "stdout",
     "output_type": "stream",
     "text": [
      "0 a\n",
      "1 b\n",
      "2 c\n"
     ]
    }
   ],
   "source": [
    "for k in d.keys():\n",
    "    print(k, d[k])"
   ]
  },
  {
   "cell_type": "code",
   "execution_count": 30,
   "id": "654e28dc",
   "metadata": {},
   "outputs": [
    {
     "name": "stdout",
     "output_type": "stream",
     "text": [
      "0 a\n",
      "1 b\n",
      "2 c\n"
     ]
    }
   ],
   "source": [
    "for k,v in d.items():\n",
    "    print(k,v)"
   ]
  },
  {
   "cell_type": "markdown",
   "id": "fcb11813",
   "metadata": {},
   "source": [
    "### functions"
   ]
  },
  {
   "cell_type": "code",
   "execution_count": 17,
   "id": "b6373254",
   "metadata": {},
   "outputs": [],
   "source": [
    "def add_numbers(number1: int, number2: int)-> int:\n",
    "    return number1+number2"
   ]
  },
  {
   "cell_type": "code",
   "execution_count": 18,
   "id": "11d5918f",
   "metadata": {},
   "outputs": [
    {
     "data": {
      "text/plain": [
       "8"
      ]
     },
     "execution_count": 18,
     "metadata": {},
     "output_type": "execute_result"
    }
   ],
   "source": [
    "add_numbers(3,5)"
   ]
  },
  {
   "cell_type": "code",
   "execution_count": 19,
   "id": "b99bbdd4",
   "metadata": {},
   "outputs": [],
   "source": [
    "def is_odd(number: int) -> int:\n",
    "    return (number%2)==1"
   ]
  },
  {
   "cell_type": "code",
   "execution_count": 20,
   "id": "691712e7",
   "metadata": {},
   "outputs": [
    {
     "data": {
      "text/plain": [
       "True"
      ]
     },
     "execution_count": 20,
     "metadata": {},
     "output_type": "execute_result"
    }
   ],
   "source": [
    "is_odd(3)"
   ]
  },
  {
   "cell_type": "markdown",
   "id": "b4518706",
   "metadata": {},
   "source": [
    "### arguments"
   ]
  },
  {
   "cell_type": "code",
   "execution_count": 44,
   "id": "f9b54ec7",
   "metadata": {},
   "outputs": [],
   "source": [
    "# args - for many anrguments (we don't know how many)\n",
    "# *args takes arguments as tulpe"
   ]
  },
  {
   "cell_type": "code",
   "execution_count": 6,
   "id": "ee8a9727",
   "metadata": {},
   "outputs": [],
   "source": [
    "def multiple_args(a, *args):\n",
    "    print(a)\n",
    "    print(args)\n",
    "    for arg in args:\n",
    "        print('arg: ',arg)"
   ]
  },
  {
   "cell_type": "code",
   "execution_count": 7,
   "id": "1a64cb8e",
   "metadata": {},
   "outputs": [
    {
     "name": "stdout",
     "output_type": "stream",
     "text": [
      "a\n",
      "('b', 'c')\n",
      "arg:  b\n",
      "arg:  c\n"
     ]
    }
   ],
   "source": [
    "multiple_args('a','b','c')"
   ]
  },
  {
   "cell_type": "code",
   "execution_count": 8,
   "id": "d93b8e06",
   "metadata": {},
   "outputs": [],
   "source": [
    "# kwargs - for many keyword args\n",
    "# **kwargs takes keyword args as dict"
   ]
  },
  {
   "cell_type": "code",
   "execution_count": 21,
   "id": "4ac6d90a",
   "metadata": {},
   "outputs": [],
   "source": [
    "def multiple_args(a, **kwargs):\n",
    "    print(a)\n",
    "    print(kwargs)\n",
    "    for k,v in kwargs.items():\n",
    "        print(k, ':', v)"
   ]
  },
  {
   "cell_type": "code",
   "execution_count": 22,
   "id": "206dac2c",
   "metadata": {},
   "outputs": [
    {
     "name": "stdout",
     "output_type": "stream",
     "text": [
      "a\n",
      "{'b': 'b', 'c': 'c'}\n",
      "b : b\n",
      "c : c\n"
     ]
    }
   ],
   "source": [
    "multiple_args('a',b='b',c='c')"
   ]
  },
  {
   "cell_type": "code",
   "execution_count": 23,
   "id": "49774c24",
   "metadata": {},
   "outputs": [],
   "source": [
    "# all"
   ]
  },
  {
   "cell_type": "code",
   "execution_count": 27,
   "id": "6d37e616",
   "metadata": {},
   "outputs": [],
   "source": [
    "def multiple_args(a, *args, **kwargs):\n",
    "    print(a)\n",
    "    print(args)\n",
    "    print(kwargs)"
   ]
  },
  {
   "cell_type": "code",
   "execution_count": 28,
   "id": "e22063d4",
   "metadata": {},
   "outputs": [
    {
     "name": "stdout",
     "output_type": "stream",
     "text": [
      "a\n",
      "('d', 'e')\n",
      "{'b': 'b', 'c': 'c'}\n"
     ]
    }
   ],
   "source": [
    "multiple_args('a', 'd', 'e', b='b',c='c')"
   ]
  },
  {
   "cell_type": "markdown",
   "id": "2fcfd7d1",
   "metadata": {},
   "source": [
    "### unpacking"
   ]
  },
  {
   "cell_type": "code",
   "execution_count": 36,
   "id": "5fc6b3b0",
   "metadata": {},
   "outputs": [],
   "source": [
    "# *"
   ]
  },
  {
   "cell_type": "code",
   "execution_count": 29,
   "id": "a5742fe0",
   "metadata": {},
   "outputs": [],
   "source": [
    "l=[1,2,3]"
   ]
  },
  {
   "cell_type": "code",
   "execution_count": 31,
   "id": "f08a24b7",
   "metadata": {},
   "outputs": [
    {
     "name": "stdout",
     "output_type": "stream",
     "text": [
      "[1, 2, 3]\n",
      "1 2 3\n"
     ]
    }
   ],
   "source": [
    "print(l)\n",
    "print(*l)"
   ]
  },
  {
   "cell_type": "code",
   "execution_count": 40,
   "id": "2f7ff733",
   "metadata": {},
   "outputs": [
    {
     "name": "stdout",
     "output_type": "stream",
     "text": [
      "1\n",
      "[2, 3]\n"
     ]
    }
   ],
   "source": [
    "a,*b=l\n",
    "print(a)\n",
    "print(b)"
   ]
  },
  {
   "cell_type": "code",
   "execution_count": 41,
   "id": "90ed1dc7",
   "metadata": {},
   "outputs": [],
   "source": [
    "d={'a': 1, 'b': 2, 'c': 3}"
   ]
  },
  {
   "cell_type": "code",
   "execution_count": 45,
   "id": "b018f60a",
   "metadata": {},
   "outputs": [],
   "source": [
    "def fun(a,b,c):\n",
    "    print(a,b,c)"
   ]
  },
  {
   "cell_type": "code",
   "execution_count": 46,
   "id": "ca1d360a",
   "metadata": {},
   "outputs": [
    {
     "name": "stdout",
     "output_type": "stream",
     "text": [
      "{'a': 1, 'b': 2, 'c': 3}\n",
      "1 2 3\n"
     ]
    }
   ],
   "source": [
    "print(d)\n",
    "fun(**d)"
   ]
  },
  {
   "cell_type": "markdown",
   "id": "d2c48f2e",
   "metadata": {},
   "source": [
    "### guard clauses"
   ]
  },
  {
   "cell_type": "code",
   "execution_count": 48,
   "id": "0e050704",
   "metadata": {},
   "outputs": [],
   "source": [
    "n=3"
   ]
  },
  {
   "cell_type": "code",
   "execution_count": 22,
   "id": "beab3418",
   "metadata": {},
   "outputs": [
    {
     "name": "stdout",
     "output_type": "stream",
     "text": [
      "three\n"
     ]
    }
   ],
   "source": [
    "if n==4:\n",
    "    print('four')\n",
    "elif n==3:\n",
    "    print('three')\n",
    "else:\n",
    "    print('neither four nore three')"
   ]
  },
  {
   "cell_type": "code",
   "execution_count": 49,
   "id": "c94f4c73",
   "metadata": {},
   "outputs": [
    {
     "data": {
      "text/plain": [
       "'nope'"
      ]
     },
     "execution_count": 49,
     "metadata": {},
     "output_type": "execute_result"
    }
   ],
   "source": [
    "a=1 if n==0 else 'nope'\n",
    "a"
   ]
  },
  {
   "cell_type": "code",
   "execution_count": 53,
   "id": "b3ece348",
   "metadata": {},
   "outputs": [
    {
     "name": "stdout",
     "output_type": "stream",
     "text": [
      "4\n",
      "3\n",
      "2\n",
      "1\n",
      "0\n"
     ]
    }
   ],
   "source": [
    "n=5\n",
    "while n>0:\n",
    "        n-=1\n",
    "        print(n)\n"
   ]
  },
  {
   "cell_type": "code",
   "execution_count": 54,
   "id": "3467b299",
   "metadata": {},
   "outputs": [
    {
     "name": "stdout",
     "output_type": "stream",
     "text": [
      "4\n",
      "3\n",
      "2\n"
     ]
    }
   ],
   "source": [
    "n=5\n",
    "while n>0:\n",
    "        n-=1\n",
    "        print(n)\n",
    "        if n==2:\n",
    "            break\n",
    "        else:\n",
    "            continue\n",
    "        print('test')"
   ]
  },
  {
   "cell_type": "code",
   "execution_count": null,
   "id": "72401a01",
   "metadata": {},
   "outputs": [],
   "source": []
  },
  {
   "cell_type": "code",
   "execution_count": null,
   "id": "07a05ca0",
   "metadata": {},
   "outputs": [],
   "source": []
  },
  {
   "cell_type": "code",
   "execution_count": null,
   "id": "9c7e7aa4",
   "metadata": {},
   "outputs": [],
   "source": []
  }
 ],
 "metadata": {
  "kernelspec": {
   "display_name": "Python 3 (ipykernel)",
   "language": "python",
   "name": "python3"
  },
  "language_info": {
   "codemirror_mode": {
    "name": "ipython",
    "version": 3
   },
   "file_extension": ".py",
   "mimetype": "text/x-python",
   "name": "python",
   "nbconvert_exporter": "python",
   "pygments_lexer": "ipython3",
   "version": "3.10.9"
  }
 },
 "nbformat": 4,
 "nbformat_minor": 5
}
