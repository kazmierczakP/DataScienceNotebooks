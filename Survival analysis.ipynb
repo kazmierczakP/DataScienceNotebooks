{
 "cells": [
  {
   "cell_type": "code",
   "execution_count": 73,
   "id": "20fc11d5",
   "metadata": {},
   "outputs": [],
   "source": [
    "import pandas as pd\n",
    "import numpy as np\n",
    "import requests\n",
    "import matplotlib.pyplot as plt\n",
    "from matplotlib.ticker import PercentFormatter"
   ]
  },
  {
   "cell_type": "code",
   "execution_count": 31,
   "id": "574c8568",
   "metadata": {},
   "outputs": [],
   "source": [
    "#link = \"http://lib.stat.cmu.edu/datasets/veteran\"\n",
    "#w = requests.get(link)\n",
    "#txt=w.text\n",
    "#f = open(\"data/lung_cancer2.txt\", \"w\")\n",
    "#f.write(txt.replace('     ',',')  )\n",
    "#f.close()"
   ]
  },
  {
   "cell_type": "code",
   "execution_count": 56,
   "id": "aafc0f8d",
   "metadata": {},
   "outputs": [],
   "source": [
    "data = pd.read_csv('data/lung_cancer2.txt', sep=\",\", header=None)\n",
    "data.columns = [\"Treatment\", \"Celltype\", \"Survival\", \"Status\",\"Karnofsky score\",\"Months from Diagnosis\",\"Age\",\"Prior therapy\"]"
   ]
  },
  {
   "cell_type": "code",
   "execution_count": 57,
   "id": "882a21a6",
   "metadata": {},
   "outputs": [
    {
     "data": {
      "text/html": [
       "<div>\n",
       "<style scoped>\n",
       "    .dataframe tbody tr th:only-of-type {\n",
       "        vertical-align: middle;\n",
       "    }\n",
       "\n",
       "    .dataframe tbody tr th {\n",
       "        vertical-align: top;\n",
       "    }\n",
       "\n",
       "    .dataframe thead th {\n",
       "        text-align: right;\n",
       "    }\n",
       "</style>\n",
       "<table border=\"1\" class=\"dataframe\">\n",
       "  <thead>\n",
       "    <tr style=\"text-align: right;\">\n",
       "      <th></th>\n",
       "      <th>Treatment</th>\n",
       "      <th>Celltype</th>\n",
       "      <th>Survival</th>\n",
       "      <th>Status</th>\n",
       "      <th>Karnofsky score</th>\n",
       "      <th>Months from Diagnosis</th>\n",
       "      <th>Age</th>\n",
       "      <th>Prior therapy</th>\n",
       "    </tr>\n",
       "  </thead>\n",
       "  <tbody>\n",
       "    <tr>\n",
       "      <th>0</th>\n",
       "      <td>1</td>\n",
       "      <td>1</td>\n",
       "      <td>72</td>\n",
       "      <td>1</td>\n",
       "      <td>60</td>\n",
       "      <td>7</td>\n",
       "      <td>69</td>\n",
       "      <td>0</td>\n",
       "    </tr>\n",
       "    <tr>\n",
       "      <th>1</th>\n",
       "      <td>1</td>\n",
       "      <td>1</td>\n",
       "      <td>411</td>\n",
       "      <td>1</td>\n",
       "      <td>70</td>\n",
       "      <td>5</td>\n",
       "      <td>64</td>\n",
       "      <td>10</td>\n",
       "    </tr>\n",
       "    <tr>\n",
       "      <th>2</th>\n",
       "      <td>1</td>\n",
       "      <td>1</td>\n",
       "      <td>228</td>\n",
       "      <td>1</td>\n",
       "      <td>60</td>\n",
       "      <td>3</td>\n",
       "      <td>38</td>\n",
       "      <td>0</td>\n",
       "    </tr>\n",
       "    <tr>\n",
       "      <th>3</th>\n",
       "      <td>1</td>\n",
       "      <td>1</td>\n",
       "      <td>126</td>\n",
       "      <td>1</td>\n",
       "      <td>60</td>\n",
       "      <td>9</td>\n",
       "      <td>63</td>\n",
       "      <td>10</td>\n",
       "    </tr>\n",
       "    <tr>\n",
       "      <th>4</th>\n",
       "      <td>1</td>\n",
       "      <td>1</td>\n",
       "      <td>118</td>\n",
       "      <td>1</td>\n",
       "      <td>70</td>\n",
       "      <td>11</td>\n",
       "      <td>65</td>\n",
       "      <td>10</td>\n",
       "    </tr>\n",
       "    <tr>\n",
       "      <th>...</th>\n",
       "      <td>...</td>\n",
       "      <td>...</td>\n",
       "      <td>...</td>\n",
       "      <td>...</td>\n",
       "      <td>...</td>\n",
       "      <td>...</td>\n",
       "      <td>...</td>\n",
       "      <td>...</td>\n",
       "    </tr>\n",
       "    <tr>\n",
       "      <th>132</th>\n",
       "      <td>2</td>\n",
       "      <td>4</td>\n",
       "      <td>133</td>\n",
       "      <td>1</td>\n",
       "      <td>75</td>\n",
       "      <td>1</td>\n",
       "      <td>65</td>\n",
       "      <td>0</td>\n",
       "    </tr>\n",
       "    <tr>\n",
       "      <th>133</th>\n",
       "      <td>2</td>\n",
       "      <td>4</td>\n",
       "      <td>111</td>\n",
       "      <td>1</td>\n",
       "      <td>60</td>\n",
       "      <td>5</td>\n",
       "      <td>64</td>\n",
       "      <td>0</td>\n",
       "    </tr>\n",
       "    <tr>\n",
       "      <th>134</th>\n",
       "      <td>2</td>\n",
       "      <td>4</td>\n",
       "      <td>231</td>\n",
       "      <td>1</td>\n",
       "      <td>70</td>\n",
       "      <td>18</td>\n",
       "      <td>67</td>\n",
       "      <td>10</td>\n",
       "    </tr>\n",
       "    <tr>\n",
       "      <th>135</th>\n",
       "      <td>2</td>\n",
       "      <td>4</td>\n",
       "      <td>378</td>\n",
       "      <td>1</td>\n",
       "      <td>80</td>\n",
       "      <td>4</td>\n",
       "      <td>65</td>\n",
       "      <td>0</td>\n",
       "    </tr>\n",
       "    <tr>\n",
       "      <th>136</th>\n",
       "      <td>2</td>\n",
       "      <td>4</td>\n",
       "      <td>49</td>\n",
       "      <td>1</td>\n",
       "      <td>30</td>\n",
       "      <td>3</td>\n",
       "      <td>37</td>\n",
       "      <td>0</td>\n",
       "    </tr>\n",
       "  </tbody>\n",
       "</table>\n",
       "<p>137 rows × 8 columns</p>\n",
       "</div>"
      ],
      "text/plain": [
       "     Treatment  Celltype  Survival  Status  Karnofsky score  \\\n",
       "0            1         1        72       1               60   \n",
       "1            1         1       411       1               70   \n",
       "2            1         1       228       1               60   \n",
       "3            1         1       126       1               60   \n",
       "4            1         1       118       1               70   \n",
       "..         ...       ...       ...     ...              ...   \n",
       "132          2         4       133       1               75   \n",
       "133          2         4       111       1               60   \n",
       "134          2         4       231       1               70   \n",
       "135          2         4       378       1               80   \n",
       "136          2         4        49       1               30   \n",
       "\n",
       "     Months from Diagnosis  Age  Prior therapy  \n",
       "0                        7   69              0  \n",
       "1                        5   64             10  \n",
       "2                        3   38              0  \n",
       "3                        9   63             10  \n",
       "4                       11   65             10  \n",
       "..                     ...  ...            ...  \n",
       "132                      1   65              0  \n",
       "133                      5   64              0  \n",
       "134                     18   67             10  \n",
       "135                      4   65              0  \n",
       "136                      3   37              0  \n",
       "\n",
       "[137 rows x 8 columns]"
      ]
     },
     "execution_count": 57,
     "metadata": {},
     "output_type": "execute_result"
    }
   ],
   "source": [
    "data"
   ]
  },
  {
   "cell_type": "code",
   "execution_count": 110,
   "id": "3ba702ed",
   "metadata": {},
   "outputs": [
    {
     "data": {
      "text/html": [
       "<div>\n",
       "<style scoped>\n",
       "    .dataframe tbody tr th:only-of-type {\n",
       "        vertical-align: middle;\n",
       "    }\n",
       "\n",
       "    .dataframe tbody tr th {\n",
       "        vertical-align: top;\n",
       "    }\n",
       "\n",
       "    .dataframe thead th {\n",
       "        text-align: right;\n",
       "    }\n",
       "</style>\n",
       "<table border=\"1\" class=\"dataframe\">\n",
       "  <thead>\n",
       "    <tr style=\"text-align: right;\">\n",
       "      <th></th>\n",
       "      <th>Treatment</th>\n",
       "      <th>Celltype</th>\n",
       "      <th>Survival</th>\n",
       "      <th>Status</th>\n",
       "      <th>Karnofsky score</th>\n",
       "      <th>Months from Diagnosis</th>\n",
       "      <th>Age</th>\n",
       "      <th>Prior therapy</th>\n",
       "    </tr>\n",
       "  </thead>\n",
       "  <tbody>\n",
       "    <tr>\n",
       "      <th>count</th>\n",
       "      <td>137.000000</td>\n",
       "      <td>137.000000</td>\n",
       "      <td>137.000000</td>\n",
       "      <td>137.000000</td>\n",
       "      <td>137.000000</td>\n",
       "      <td>137.000000</td>\n",
       "      <td>137.000000</td>\n",
       "      <td>137.000000</td>\n",
       "    </tr>\n",
       "    <tr>\n",
       "      <th>mean</th>\n",
       "      <td>1.496350</td>\n",
       "      <td>2.335766</td>\n",
       "      <td>121.627737</td>\n",
       "      <td>0.934307</td>\n",
       "      <td>58.569343</td>\n",
       "      <td>8.773723</td>\n",
       "      <td>58.306569</td>\n",
       "      <td>2.919708</td>\n",
       "    </tr>\n",
       "    <tr>\n",
       "      <th>std</th>\n",
       "      <td>0.501821</td>\n",
       "      <td>1.066036</td>\n",
       "      <td>157.816722</td>\n",
       "      <td>0.248655</td>\n",
       "      <td>20.039592</td>\n",
       "      <td>10.612141</td>\n",
       "      <td>10.541628</td>\n",
       "      <td>4.563375</td>\n",
       "    </tr>\n",
       "    <tr>\n",
       "      <th>min</th>\n",
       "      <td>1.000000</td>\n",
       "      <td>1.000000</td>\n",
       "      <td>1.000000</td>\n",
       "      <td>0.000000</td>\n",
       "      <td>10.000000</td>\n",
       "      <td>1.000000</td>\n",
       "      <td>34.000000</td>\n",
       "      <td>0.000000</td>\n",
       "    </tr>\n",
       "    <tr>\n",
       "      <th>25%</th>\n",
       "      <td>1.000000</td>\n",
       "      <td>1.000000</td>\n",
       "      <td>25.000000</td>\n",
       "      <td>1.000000</td>\n",
       "      <td>40.000000</td>\n",
       "      <td>3.000000</td>\n",
       "      <td>51.000000</td>\n",
       "      <td>0.000000</td>\n",
       "    </tr>\n",
       "    <tr>\n",
       "      <th>50%</th>\n",
       "      <td>1.000000</td>\n",
       "      <td>2.000000</td>\n",
       "      <td>80.000000</td>\n",
       "      <td>1.000000</td>\n",
       "      <td>60.000000</td>\n",
       "      <td>5.000000</td>\n",
       "      <td>62.000000</td>\n",
       "      <td>0.000000</td>\n",
       "    </tr>\n",
       "    <tr>\n",
       "      <th>75%</th>\n",
       "      <td>2.000000</td>\n",
       "      <td>3.000000</td>\n",
       "      <td>144.000000</td>\n",
       "      <td>1.000000</td>\n",
       "      <td>75.000000</td>\n",
       "      <td>11.000000</td>\n",
       "      <td>66.000000</td>\n",
       "      <td>10.000000</td>\n",
       "    </tr>\n",
       "    <tr>\n",
       "      <th>max</th>\n",
       "      <td>2.000000</td>\n",
       "      <td>4.000000</td>\n",
       "      <td>999.000000</td>\n",
       "      <td>1.000000</td>\n",
       "      <td>99.000000</td>\n",
       "      <td>87.000000</td>\n",
       "      <td>81.000000</td>\n",
       "      <td>10.000000</td>\n",
       "    </tr>\n",
       "  </tbody>\n",
       "</table>\n",
       "</div>"
      ],
      "text/plain": [
       "        Treatment    Celltype    Survival      Status  Karnofsky score  \\\n",
       "count  137.000000  137.000000  137.000000  137.000000       137.000000   \n",
       "mean     1.496350    2.335766  121.627737    0.934307        58.569343   \n",
       "std      0.501821    1.066036  157.816722    0.248655        20.039592   \n",
       "min      1.000000    1.000000    1.000000    0.000000        10.000000   \n",
       "25%      1.000000    1.000000   25.000000    1.000000        40.000000   \n",
       "50%      1.000000    2.000000   80.000000    1.000000        60.000000   \n",
       "75%      2.000000    3.000000  144.000000    1.000000        75.000000   \n",
       "max      2.000000    4.000000  999.000000    1.000000        99.000000   \n",
       "\n",
       "       Months from Diagnosis         Age  Prior therapy  \n",
       "count             137.000000  137.000000     137.000000  \n",
       "mean                8.773723   58.306569       2.919708  \n",
       "std                10.612141   10.541628       4.563375  \n",
       "min                 1.000000   34.000000       0.000000  \n",
       "25%                 3.000000   51.000000       0.000000  \n",
       "50%                 5.000000   62.000000       0.000000  \n",
       "75%                11.000000   66.000000      10.000000  \n",
       "max                87.000000   81.000000      10.000000  "
      ]
     },
     "execution_count": 110,
     "metadata": {},
     "output_type": "execute_result"
    }
   ],
   "source": [
    "data.describe()"
   ]
  },
  {
   "cell_type": "markdown",
   "id": "812124da",
   "metadata": {},
   "source": [
    "#### Survival distribution"
   ]
  },
  {
   "cell_type": "code",
   "execution_count": 58,
   "id": "24b6bb58",
   "metadata": {},
   "outputs": [
    {
     "data": {
      "text/plain": [
       "(array([84., 29., 11.,  7.,  2.,  2.,  0.,  0.,  0.,  2.]),\n",
       " array([  1. , 100.8, 200.6, 300.4, 400.2, 500. , 599.8, 699.6, 799.4,\n",
       "        899.2, 999. ]),\n",
       " <BarContainer object of 10 artists>)"
      ]
     },
     "execution_count": 58,
     "metadata": {},
     "output_type": "execute_result"
    },
    {
     "data": {
      "image/png": "[encoded data removed]",
      "text/plain": [
       "<Figure size 432x288 with 1 Axes>"
      ]
     },
     "metadata": {
      "needs_background": "light"
     },
     "output_type": "display_data"
    }
   ],
   "source": [
    "plt.hist(data['Survival'])"
   ]
  },
  {
   "cell_type": "code",
   "execution_count": 108,
   "id": "3eca5c74",
   "metadata": {},
   "outputs": [
    {
     "data": {
      "image/png": "[encoded data removed]",
      "text/plain": [
       "<Figure size 432x288 with 1 Axes>"
      ]
     },
     "metadata": {
      "needs_background": "light"
     },
     "output_type": "display_data"
    }
   ],
   "source": [
    "plt.hist(data[data['Treatment']==1]['Survival'],10, density=True,color='r',alpha=0.7)\n",
    "plt.hist(data[data['Treatment']==2]['Survival'],10, density=True,color='b',alpha=0.7)\n",
    "plt.gca().yaxis.set_major_formatter(PercentFormatter(1))"
   ]
  },
  {
   "cell_type": "markdown",
   "id": "859a2f5b",
   "metadata": {},
   "source": [
    "## Analysis"
   ]
  },
  {
   "cell_type": "markdown",
   "id": "4c16ccb0",
   "metadata": {},
   "source": [
    "### Kaplan-Meier"
   ]
  },
  {
   "cell_type": "code",
   "execution_count": 111,
   "id": "6655d356",
   "metadata": {},
   "outputs": [],
   "source": [
    "from lifelines import KaplanMeierFitter\n",
    "kmf = KaplanMeierFitter()"
   ]
  },
  {
   "cell_type": "code",
   "execution_count": 112,
   "id": "73878be4",
   "metadata": {},
   "outputs": [
    {
     "data": {
      "text/plain": [
       "<lifelines.KaplanMeierFitter:\"KM_estimate\", fitted with 137 total observations, 9 right-censored observations>"
      ]
     },
     "execution_count": 112,
     "metadata": {},
     "output_type": "execute_result"
    }
   ],
   "source": [
    "kmf.fit(data['Survival'], data['Status'])"
   ]
  },
  {
   "cell_type": "code",
   "execution_count": 113,
   "id": "3059f273",
   "metadata": {},
   "outputs": [
    {
     "data": {
      "text/plain": [
       "<Axes: xlabel='timeline'>"
      ]
     },
     "execution_count": 113,
     "metadata": {},
     "output_type": "execute_result"
    },
    {
     "data": {
      "image/png": "[encoded data removed]",
      "text/plain": [
       "<Figure size 432x288 with 1 Axes>"
      ]
     },
     "metadata": {
      "needs_background": "light"
     },
     "output_type": "display_data"
    }
   ],
   "source": [
    "kmf.survival_function_.plot()"
   ]
  },
  {
   "cell_type": "code",
   "execution_count": 114,
   "id": "e008523b",
   "metadata": {},
   "outputs": [
    {
     "data": {
      "text/plain": [
       "<Axes: xlabel='timeline'>"
      ]
     },
     "execution_count": 114,
     "metadata": {},
     "output_type": "execute_result"
    },
    {
     "data": {
      "image/png": "[encoded data removed]",
      "text/plain": [
       "<Figure size 432x288 with 1 Axes>"
      ]
     },
     "metadata": {
      "needs_background": "light"
     },
     "output_type": "display_data"
    }
   ],
   "source": [
    "kmf.plot_survival_function()"
   ]
  },
  {
   "cell_type": "code",
   "execution_count": 115,
   "id": "5caddf97",
   "metadata": {},
   "outputs": [
    {
     "data": {
      "text/plain": [
       "80.0"
      ]
     },
     "execution_count": 115,
     "metadata": {},
     "output_type": "execute_result"
    }
   ],
   "source": [
    "kmf.median_survival_time_"
   ]
  },
  {
   "cell_type": "code",
   "execution_count": 116,
   "id": "4cbd2f8a",
   "metadata": {},
   "outputs": [
    {
     "data": {
      "text/html": [
       "<div>\n",
       "<style scoped>\n",
       "    .dataframe tbody tr th:only-of-type {\n",
       "        vertical-align: middle;\n",
       "    }\n",
       "\n",
       "    .dataframe tbody tr th {\n",
       "        vertical-align: top;\n",
       "    }\n",
       "\n",
       "    .dataframe thead th {\n",
       "        text-align: right;\n",
       "    }\n",
       "</style>\n",
       "<table border=\"1\" class=\"dataframe\">\n",
       "  <thead>\n",
       "    <tr style=\"text-align: right;\">\n",
       "      <th></th>\n",
       "      <th>timeline</th>\n",
       "      <th>KM_estimate</th>\n",
       "    </tr>\n",
       "  </thead>\n",
       "  <tbody>\n",
       "    <tr>\n",
       "      <th>0</th>\n",
       "      <td>0.0</td>\n",
       "      <td>1.000000</td>\n",
       "    </tr>\n",
       "    <tr>\n",
       "      <th>1</th>\n",
       "      <td>1.0</td>\n",
       "      <td>0.985401</td>\n",
       "    </tr>\n",
       "    <tr>\n",
       "      <th>2</th>\n",
       "      <td>2.0</td>\n",
       "      <td>0.978102</td>\n",
       "    </tr>\n",
       "    <tr>\n",
       "      <th>3</th>\n",
       "      <td>3.0</td>\n",
       "      <td>0.970803</td>\n",
       "    </tr>\n",
       "    <tr>\n",
       "      <th>4</th>\n",
       "      <td>4.0</td>\n",
       "      <td>0.963504</td>\n",
       "    </tr>\n",
       "    <tr>\n",
       "      <th>...</th>\n",
       "      <td>...</td>\n",
       "      <td>...</td>\n",
       "    </tr>\n",
       "    <tr>\n",
       "      <th>97</th>\n",
       "      <td>467.0</td>\n",
       "      <td>0.036018</td>\n",
       "    </tr>\n",
       "    <tr>\n",
       "      <th>98</th>\n",
       "      <td>553.0</td>\n",
       "      <td>0.027014</td>\n",
       "    </tr>\n",
       "    <tr>\n",
       "      <th>99</th>\n",
       "      <td>587.0</td>\n",
       "      <td>0.018009</td>\n",
       "    </tr>\n",
       "    <tr>\n",
       "      <th>100</th>\n",
       "      <td>991.0</td>\n",
       "      <td>0.009005</td>\n",
       "    </tr>\n",
       "    <tr>\n",
       "      <th>101</th>\n",
       "      <td>999.0</td>\n",
       "      <td>0.000000</td>\n",
       "    </tr>\n",
       "  </tbody>\n",
       "</table>\n",
       "<p>102 rows × 2 columns</p>\n",
       "</div>"
      ],
      "text/plain": [
       "     timeline  KM_estimate\n",
       "0         0.0     1.000000\n",
       "1         1.0     0.985401\n",
       "2         2.0     0.978102\n",
       "3         3.0     0.970803\n",
       "4         4.0     0.963504\n",
       "..        ...          ...\n",
       "97      467.0     0.036018\n",
       "98      553.0     0.027014\n",
       "99      587.0     0.018009\n",
       "100     991.0     0.009005\n",
       "101     999.0     0.000000\n",
       "\n",
       "[102 rows x 2 columns]"
      ]
     },
     "execution_count": 116,
     "metadata": {},
     "output_type": "execute_result"
    }
   ],
   "source": [
    "survival_probabilities = kmf.survival_function_.reset_index()\n",
    "survival_probabilities"
   ]
  },
  {
   "cell_type": "code",
   "execution_count": 119,
   "id": "934a38be",
   "metadata": {},
   "outputs": [
    {
     "data": {
      "text/plain": [
       "[<matplotlib.lines.Line2D at 0x24e3d448af0>]"
      ]
     },
     "execution_count": 119,
     "metadata": {},
     "output_type": "execute_result"
    },
    {
     "data": {
      "image/png": "[encoded data removed]",
      "text/plain": [
       "<Figure size 432x288 with 1 Axes>"
      ]
     },
     "metadata": {
      "needs_background": "light"
     },
     "output_type": "display_data"
    }
   ],
   "source": [
    "plt.plot(-np.log(survival_probabilities['KM_estimate']),survival_probabilities['timeline'])"
   ]
  },
  {
   "cell_type": "markdown",
   "id": "5ab1032e",
   "metadata": {},
   "source": [
    "`-log(survival)` allows to tell if the distribution is similar to expotential. (the straighter the line, the closer)"
   ]
  },
  {
   "cell_type": "markdown",
   "id": "8ba12ee6",
   "metadata": {},
   "source": [
    "### Stratification"
   ]
  },
  {
   "cell_type": "code",
   "execution_count": 122,
   "id": "571d8907",
   "metadata": {},
   "outputs": [
    {
     "data": {
      "text/plain": [
       "array([1, 2, 3, 4], dtype=int64)"
      ]
     },
     "execution_count": 122,
     "metadata": {},
     "output_type": "execute_result"
    }
   ],
   "source": [
    "data[\"Celltype\"].unique()"
   ]
  },
  {
   "cell_type": "code",
   "execution_count": 126,
   "id": "1e114140",
   "metadata": {},
   "outputs": [
    {
     "data": {
      "image/png": "[encoded data removed]",
      "text/plain": [
       "<Figure size 432x288 with 1 Axes>"
      ]
     },
     "metadata": {
      "needs_background": "light"
     },
     "output_type": "display_data"
    }
   ],
   "source": [
    "def plot_km_curve_by_cell(data):\n",
    "    cell_types = data[\"Celltype\"].unique()\n",
    "    for cell_type in cell_types:\n",
    "        data_cell_type = data.loc[data[\"Celltype\"] == cell_type]\n",
    "        kmf = KaplanMeierFitter()\n",
    "        kmf.fit(durations=data_cell_type[\"Survival\"],event_observed=data_cell_type[\"Status\"])\n",
    "        kmf.plot(label=cell_type)\n",
    "\n",
    "    plt.legend()\n",
    "    plt.title(\"Survival curves by cell type\")\n",
    "    \n",
    "plot_km_curve_by_cell(data)"
   ]
  },
  {
   "cell_type": "code",
   "execution_count": null,
   "id": "72f8f11f",
   "metadata": {},
   "outputs": [],
   "source": []
  }
 ],
 "metadata": {
  "kernelspec": {
   "display_name": "Python 3 (ipykernel)",
   "language": "python",
   "name": "python3"
  },
  "language_info": {
   "codemirror_mode": {
    "name": "ipython",
    "version": 3
   },
   "file_extension": ".py",
   "mimetype": "text/x-python",
   "name": "python",
   "nbconvert_exporter": "python",
   "pygments_lexer": "ipython3",
   "version": "3.8.12"
  }
 },
 "nbformat": 4,
 "nbformat_minor": 5
}
